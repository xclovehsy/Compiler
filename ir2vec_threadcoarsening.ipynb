{
 "cells": [
  {
   "cell_type": "code",
   "execution_count": 1,
   "metadata": {},
   "outputs": [],
   "source": [
    "import pandas as pd\n",
    "import numpy as np\n",
    "import heapq\n",
    "import sys, re\n",
    "from sklearn.model_selection import KFold\n",
    "import os\n",
    "import xgboost as xgb\n",
    "from scipy.stats import gmean"
   ]
  },
  {
   "cell_type": "code",
   "execution_count": 3,
   "metadata": {},
   "outputs": [],
   "source": [
    "assert (\n",
    "    os.path.exists(\"data/threadcoarsening/kernels_ir\")\n",
    "    and os.path.exists(\"data/threadcoarsening/pact-2014-oracles.csv\")\n",
    "    and os.path.exists(\"data/threadcoarsening/pact-2014-runtimes.csv\")\n",
    "), \"Dataset is not present. Please down load\""
   ]
  },
  {
   "cell_type": "markdown",
   "metadata": {},
   "source": [
    "# Read data from input file"
   ]
  },
  {
   "cell_type": "code",
   "execution_count": 4,
   "metadata": {},
   "outputs": [],
   "source": [
    "from tqdm import tqdm\n",
    "import ir2vec\n",
    "from pathlib import Path\n",
    "\n",
    "def readEmd_program(mode, ir_folder='data/threadcoarsening/kernels_ir'):\n",
    "    targetLabel = []\n",
    "    rep = []\n",
    "\n",
    "    files = os.listdir(ir_folder)\n",
    "    files.sort()\n",
    "    for idx, ir_file in enumerate(files):\n",
    "        initObj = ir2vec.initEmbedding(os.path.join(ir_folder, ir_file), mode, \"p\")  # 初始化embedding\n",
    "        progVector1 = initObj.getProgramVector()                # 计算program level的embedding\n",
    "            \n",
    "        targetLabel.append(idx + 1)\n",
    "        rep.append(progVector1)\n",
    "        # break\n",
    "\n",
    "    return rep, targetLabel\n",
    "\n",
    "rep, targetLabel = readEmd_program('sym')"
   ]
  },
  {
   "cell_type": "code",
   "execution_count": 5,
   "metadata": {},
   "outputs": [],
   "source": [
    "_FLAG_TO_DEVICE_NAME = {\n",
    "    \"Cypress\": \"AMD Radeon HD 5900\",\n",
    "    \"Tahiti\": \"AMD Tahiti 7970\",\n",
    "    \"Fermi\": \"NVIDIA GTX 480\",\n",
    "    \"Kepler\": \"NVIDIA Tesla K20c\",\n",
    "}\n",
    "\n",
    "device_list = [\"Cypress\", \"Tahiti\", \"Fermi\", \"Kepler\"]\n",
    "\n",
    "oracle_file = os.path.join(\"./data/threadcoarsening/pact-2014-oracles.csv\")\n",
    "oracles = pd.read_csv(oracle_file)\n",
    "\n",
    "runtimes_file = os.path.join(\"./data/threadcoarsening/pact-2014-runtimes.csv\")\n",
    "df = pd.read_csv(runtimes_file)"
   ]
  },
  {
   "cell_type": "markdown",
   "metadata": {},
   "source": [
    "# Results from other works\n",
    "\n",
    "The accuracies and speedups are taken from the results quoted by NCC in their work for the purpose of comparison. For detailed analysis (discussed later), we run these models and the obtained results are stored as pickle files in ./data/prior_art_results. "
   ]
  },
  {
   "cell_type": "code",
   "execution_count": 6,
   "metadata": {},
   "outputs": [],
   "source": [
    "magni_sp_vals = [1.21, 1.01, 0.86, 0.94]\n",
    "magni_sp_mean = [1.005]\n",
    "deeptune_sp_vals = [1.10, 1.05, 1.10, 0.99]\n",
    "deeptune_sp_mean = [1.06]\n",
    "deeptuneTL_sp_vals = [1.17, 1.23, 1.14, 0.93]\n",
    "deeptuneTL_sp_mean = [1.1175]\n",
    "ncc_sp_vals = [1.29, 1.07, 0.97, 1.01]\n",
    "ncc_sp_mean = [1.086]"
   ]
  },
  {
   "cell_type": "code",
   "execution_count": 7,
   "metadata": {},
   "outputs": [],
   "source": [
    "cfs = np.array([1, 2, 4, 8, 16, 32])\n",
    "kernel_freq = df[\"kernel\"].value_counts().sort_index().reset_index()\n",
    "\n",
    "cfs2idx = {int(cfs): idx for idx, cfs in enumerate(cfs)}\n",
    "idx2cfs = {idx: int(cfs) for idx, cfs in enumerate(cfs)}"
   ]
  },
  {
   "cell_type": "code",
   "execution_count": 8,
   "metadata": {},
   "outputs": [
    {
     "data": {
      "text/plain": [
       "{0: 1, 1: 2, 2: 4, 3: 8, 4: 16, 5: 32}"
      ]
     },
     "execution_count": 8,
     "metadata": {},
     "output_type": "execute_result"
    }
   ],
   "source": [
    "idx2cfs"
   ]
  },
  {
   "cell_type": "markdown",
   "metadata": {},
   "source": [
    "# Classification Model"
   ]
  },
  {
   "cell_type": "code",
   "execution_count": 9,
   "metadata": {},
   "outputs": [],
   "source": [
    "def find_runtime(df, kernel, cf, platform):\n",
    "    filter1 = df[\"kernel\"] == kernel\n",
    "    filter2 = df[\"cf\"] == cf\n",
    "    return df.where(filter1 & filter2)[\"runtime_\" + platform].dropna()\n",
    "\n",
    "\n",
    "def evaluate(max_depth, learning_rate, n_estimators):\n",
    "    inferencetime = []\n",
    "    raw_embeddings_pd = pd.DataFrame(raw_embeddings, columns=range(1, 301))\n",
    "    efileNum = pd.DataFrame(fileIndex)\n",
    "    embeddings = pd.concat([efileNum, raw_embeddings_pd], axis=1)\n",
    "\n",
    "    llfiles = pd.read_csv(\"./data/threadcoarsening/all.txt\", sep=\"\\s+\")\n",
    "\n",
    "    fileNum = llfiles[\"FileNum\"]\n",
    "    filesname = llfiles[\"ProgramName\"]\n",
    "\n",
    "    oracles[\"kernel_path\"] = str(\"./\") + oracles[\"kernel\"] + str(\".ll\")\n",
    "\n",
    "    df[\"kernel_path\"] = str(\"./\") + df[\"kernel\"] + str(\".ll\")\n",
    "\n",
    "    resultant_data = pd.DataFrame()\n",
    "    for i, platform in enumerate(device_list):\n",
    "        embeddingsData_tmp = embeddings\n",
    "        embeddingsData_tmp = embeddingsData_tmp.merge(\n",
    "            llfiles, left_on=0, right_on=\"FileNum\"\n",
    "        )\n",
    "        embeddingsData_tmp = pd.merge(\n",
    "            embeddingsData_tmp, oracles, left_on=\"ProgramName\", right_on=\"kernel_path\"\n",
    "        )\n",
    "        embeddingsData_tmp[\"cf\"] = embeddingsData_tmp[\"cf_\" + platform]\n",
    "        embeddingsData_tmp[\"device\"] = i + 1\n",
    "        resultant_data = pd.concat([resultant_data, embeddingsData_tmp])\n",
    "\n",
    "    resultant_data = pd.get_dummies(resultant_data, columns=[\"device\"])\n",
    "    resultant_data.reset_index(inplace=True)\n",
    "\n",
    "    targetLabel = np.array([cfs2idx[int(cf)] for cf in resultant_data[\"cf\"]])\n",
    "\n",
    "    data = resultant_data\n",
    "    data = data.drop(\n",
    "        columns=[\n",
    "            \"index\",\n",
    "            0,\n",
    "            \"FileNum\",\n",
    "            \"ProgramName\",\n",
    "            \"kernel\",\n",
    "            \"cf_Fermi\",\n",
    "            \"runtime_Fermi\",\n",
    "            \"cf_Kepler\",\n",
    "            \"runtime_Kepler\",\n",
    "            \"cf_Cypress\",\n",
    "            \"runtime_Cypress\",\n",
    "            \"cf_Tahiti\",\n",
    "            \"runtime_Tahiti\",\n",
    "            \"kernel_path\",\n",
    "            \"cf\",\n",
    "        ]\n",
    "    )\n",
    "\n",
    "    data = data.astype('float64')\n",
    "\n",
    "    embeddings = (data - data.min()) / (data.max() - data.min())\n",
    "    embeddings = np.array(embeddings)\n",
    "\n",
    "    data = []\n",
    "    kf = KFold(n_splits=len(targetLabel), shuffle=False)\n",
    "    for j, (train_index, test_index) in enumerate(kf.split(targetLabel)):\n",
    "        kernel = sorted(set(df[\"kernel\"]))[test_index[0] % 17]\n",
    "        gbc = xgb.XGBClassifier(\n",
    "            max_depth=max_depth,\n",
    "            learning_rate=learning_rate,\n",
    "            n_estimators=n_estimators,\n",
    "            n_jobs=10,\n",
    "        )\n",
    "        gbc.fit(embeddings[train_index], targetLabel[train_index])\n",
    "        prediction = gbc.predict(embeddings[test_index])[0]\n",
    "\n",
    "        if embeddings[test_index, 300] == 1:\n",
    "            platform = device_list[0]\n",
    "        elif embeddings[test_index, 301] == 1:\n",
    "            platform = device_list[1]\n",
    "        elif embeddings[test_index, 302] == 1:\n",
    "            platform = device_list[2]\n",
    "        elif embeddings[test_index, 303] == 1:\n",
    "            platform = device_list[3]\n",
    "\n",
    "        oracle_runtimes = np.array([float(x) for x in oracles[\"runtime_\" + platform]])\n",
    "        prediction = idx2cfs[prediction]\n",
    "        oracle = idx2cfs[targetLabel[test_index[0]]]\n",
    "        rt_baseline = float(find_runtime(df, kernel, 1, platform).iloc[0])\n",
    "        rt_pred = float(find_runtime(df, kernel, prediction, platform).iloc[0])\n",
    "        rt_oracle = float(oracle_runtimes[test_index[0] % 17])\n",
    "        data.append(\n",
    "            {\n",
    "                \"Model\": \"IR2vec\",\n",
    "                \"Platform\": _FLAG_TO_DEVICE_NAME[platform],\n",
    "                \"Kernel\": kernel,\n",
    "                \"Oracle-CF\": oracle,\n",
    "                \"Predicted-CF\": prediction,\n",
    "                \"Speedup\": rt_baseline / rt_pred,\n",
    "                \"Oracle\": rt_oracle / rt_pred,\n",
    "                \"OracleSpeedUp\": rt_baseline / rt_oracle,\n",
    "            }\n",
    "        )\n",
    "    ir2vec = pd.DataFrame(\n",
    "        data,\n",
    "        columns=[\n",
    "            \"Model\",\n",
    "            \"Platform\",\n",
    "            \"Kernel\",\n",
    "            \"Oracle-CF\",\n",
    "            \"Predicted-CF\",\n",
    "            \"Speedup\",\n",
    "            \"Oracle\",\n",
    "            \"OracleSpeedUp\",\n",
    "        ],\n",
    "    )\n",
    "\n",
    "    print(\"\\nSpeedup Matrix: IR2Vec Vs. others\\n\")\n",
    "    ir2vec_sp_vals = ir2vec.groupby([\"Platform\"])[\"Speedup\"].mean().values\n",
    "    ir2vec_sp_mean = ir2vec_sp_vals.mean()\n",
    "    sp_df = pd.DataFrame(\n",
    "        {\n",
    "            \"Magni et al.\": magni_sp_vals + magni_sp_mean,\n",
    "            \"DeepTune\": deeptune_sp_vals + deeptune_sp_mean,\n",
    "            \"DeepTune-TL\": deeptuneTL_sp_vals + deeptuneTL_sp_mean,\n",
    "            \"NCC\": ncc_sp_vals + ncc_sp_mean,\n",
    "            \"IR2Vec\": list(ir2vec_sp_vals) + [ir2vec_sp_mean],\n",
    "        },\n",
    "        index=[\n",
    "            \"AMD Radeon HD 5900\",\n",
    "            \"AMD Tahiti 7970\",\n",
    "            \"NVIDIA GTX 480\",\n",
    "            \"NVIDIA Tesla K20c\",\n",
    "            \"Average\",\n",
    "        ],\n",
    "    )\n",
    "    print(sp_df)\n",
    "    return ir2vec"
   ]
  },
  {
   "cell_type": "markdown",
   "metadata": {},
   "source": [
    "# IR2Vec Symbolic Vs. Others"
   ]
  },
  {
   "cell_type": "code",
   "execution_count": 10,
   "metadata": {
    "scrolled": true
   },
   "outputs": [
    {
     "name": "stdout",
     "output_type": "stream",
     "text": [
      "\n",
      "Speedup Matrix: IR2Vec Vs. others\n",
      "\n",
      "                    Magni et al.  DeepTune  DeepTune-TL    NCC    IR2Vec\n",
      "AMD Radeon HD 5900         1.210      1.10       1.1700  1.290  1.263738\n",
      "AMD Tahiti 7970            1.010      1.05       1.2300  1.070  1.301152\n",
      "NVIDIA GTX 480             0.860      1.10       1.1400  0.970  1.252989\n",
      "NVIDIA Tesla K20c          0.940      0.99       0.9300  1.010  1.147827\n",
      "Average                    1.005      1.06       1.1175  1.086  1.241426\n"
     ]
    }
   ],
   "source": [
    "raw_embeddings, fileIndex = readEmd_program(\n",
    "    'sym'\n",
    ")\n",
    "ir2vec_sym = evaluate(max_depth=1, learning_rate=0.05, n_estimators=140)"
   ]
  },
  {
   "cell_type": "raw",
   "metadata": {},
   "source": [
    "# Expected Results\n",
    "Speedup Matrix: IR2Vec Vs. others\n",
    "\n",
    "                    Magni et al.  DeepTune  DeepTune-TL    NCC    IR2Vec\n",
    "AMD Radeon HD 5900         1.210      1.10       1.1700  1.290  1.240354\n",
    "AMD Tahiti 7970            1.010      1.05       1.2300  1.070  1.280314\n",
    "NVIDIA GTX 480             0.860      1.10       1.1400  0.970  1.229201\n",
    "NVIDIA Tesla K20c          0.940      0.99       0.9300  1.010  1.153582\n",
    "Average                    1.005      1.06       1.1175  1.086  1.225863"
   ]
  },
  {
   "cell_type": "markdown",
   "metadata": {},
   "source": [
    "# IR2Vec Flow-Aware Vs. Others"
   ]
  },
  {
   "cell_type": "code",
   "execution_count": 11,
   "metadata": {},
   "outputs": [
    {
     "name": "stdout",
     "output_type": "stream",
     "text": [
      "\n",
      "Speedup Matrix: IR2Vec Vs. others\n",
      "\n",
      "                    Magni et al.  DeepTune  DeepTune-TL    NCC    IR2Vec\n",
      "AMD Radeon HD 5900         1.210      1.10       1.1700  1.290  1.264561\n",
      "AMD Tahiti 7970            1.010      1.05       1.2300  1.070  1.294188\n",
      "NVIDIA GTX 480             0.860      1.10       1.1400  0.970  1.224507\n",
      "NVIDIA Tesla K20c          0.940      0.99       0.9300  1.010  1.147256\n",
      "Average                    1.005      1.06       1.1175  1.086  1.232628\n"
     ]
    }
   ],
   "source": [
    "raw_embeddings, fileIndex = readEmd_program(\n",
    "    'fa'\n",
    ")\n",
    "ir2vec_fa = evaluate(max_depth=1, learning_rate=0.05, n_estimators=140)"
   ]
  },
  {
   "cell_type": "raw",
   "metadata": {},
   "source": [
    "# Expected Results\n",
    "Speedup Matrix: IR2Vec Vs. others\n",
    "\n",
    "                    Magni et al.  DeepTune  DeepTune-TL    NCC    IR2Vec\n",
    "AMD Radeon HD 5900         1.210      1.10       1.1700  1.290  1.240354\n",
    "AMD Tahiti 7970            1.010      1.05       1.2300  1.070  1.301152\n",
    "NVIDIA GTX 480             0.860      1.10       1.1400  0.970  1.256957\n",
    "NVIDIA Tesla K20c          0.940      0.99       0.9300  1.010  1.155468\n",
    "Average                    1.005      1.06       1.1175  1.086  1.238483\n"
   ]
  },
  {
   "cell_type": "code",
   "execution_count": 12,
   "metadata": {},
   "outputs": [],
   "source": [
    "# oracle = ir2vec_fa.copy()\n",
    "# oracle[\"Model\"] = \"Oracle\"\n",
    "# oracle[\"Speedup\"] = oracle[\"OracleSpeedUp\"]\n",
    "# oracle[\"Predicted-CF\"] = oracle[\"Oracle-CF\"]\n",
    "# oracle.drop(columns=['OracleSpeedUp'],inplace=True)"
   ]
  },
  {
   "cell_type": "markdown",
   "metadata": {},
   "source": [
    "# Other related observations\n",
    "For the comparison, we use the results obtained on training the earlier works  "
   ]
  },
  {
   "cell_type": "code",
   "execution_count": 13,
   "metadata": {},
   "outputs": [],
   "source": [
    "magni_res = pd.read_pickle(\"data/threadcoarsening/prior_art_results/magni_tf.results\")\n",
    "deeptune_res = pd.read_pickle(\"data/threadcoarsening/prior_art_results/deeptune_tf.results\")\n",
    "deeptune_tl_res = pd.read_pickle(\"data/threadcoarsening/prior_art_results/deeptune_tl_tf.results\")\n",
    "ncc_res = pd.read_pickle(\"data/threadcoarsening/prior_art_results/ncc_fix_tf.results\")"
   ]
  },
  {
   "cell_type": "markdown",
   "metadata": {},
   "source": [
    "## Speedup comparison"
   ]
  },
  {
   "cell_type": "code",
   "execution_count": 14,
   "metadata": {},
   "outputs": [
    {
     "name": "stdout",
     "output_type": "stream",
     "text": [
      "Geometric mean of Magni et al. 0.86x\n",
      "Geometric mean of DeepTune 1.00x\n",
      "Geometric mean of Inst2Vec 1.04x\n",
      "Geometric mean of IR2Vec Symbolic 1.19x\n",
      "Geometric mean of IR2Vec Flow-Aware 1.17x\n"
     ]
    }
   ],
   "source": [
    "magni_geomean = gmean(magni_res[\"Speedup\"].values)\n",
    "deeptune_geomean = gmean(deeptune_res[\"Speedup\"].values)\n",
    "deeptune_tl_geomean = gmean(deeptune_tl_res[\"Speedup\"].values)\n",
    "ncc_geomean = gmean(ncc_res[\"Speedup\"].values)\n",
    "ir2vec_sym_geomean = gmean(ir2vec_sym[\"Speedup\"].values)\n",
    "ir2vec_fa_geomean = gmean(ir2vec_fa[\"Speedup\"].values)\n",
    "\n",
    "\n",
    "print(f\"Geometric mean of Magni et al. {magni_geomean:.2f}x\")\n",
    "print(f\"Geometric mean of DeepTune {deeptune_geomean:.2f}x\")\n",
    "print(f\"Geometric mean of Inst2Vec {ncc_geomean:.2f}x\")\n",
    "print(f\"Geometric mean of IR2Vec Symbolic {ir2vec_sym_geomean:.2f}x\")\n",
    "print(f\"Geometric mean of IR2Vec Flow-Aware {ir2vec_fa_geomean:.2f}x\")"
   ]
  },
  {
   "cell_type": "code",
   "execution_count": 15,
   "metadata": {},
   "outputs": [],
   "source": [
    "def calcSpeedup(platform):\n",
    "    magni_geomean = gmean(\n",
    "        magni_res[magni_res[\"Platform\"] == platform][\"Speedup\"].values\n",
    "    )\n",
    "    deeptune_geomean = gmean(\n",
    "        deeptune_res[deeptune_res[\"Platform\"] == platform][\"Speedup\"].values\n",
    "    )\n",
    "    deeptune_tl_geomean = gmean(\n",
    "        deeptune_tl_res[deeptune_tl_res[\"Platform\"] == platform][\"Speedup\"].values\n",
    "    )\n",
    "    ncc_geomean = gmean(ncc_res[ncc_res[\"Platform\"] == platform][\"Speedup\"].values)\n",
    "    ir2vec_sym_geomean = gmean(\n",
    "        ir2vec_sym[ir2vec_sym[\"Platform\"] == platform][\"Speedup\"].values\n",
    "    )\n",
    "    ir2vec_fa_geomean = gmean(\n",
    "        ir2vec_fa[ir2vec_fa[\"Platform\"] == platform][\"Speedup\"].values\n",
    "    )\n",
    "\n",
    "    print(f\"Geometric mean of Magni et al. {magni_geomean:.2f}x\")\n",
    "    print(f\"Geometric mean of DeepTune {deeptune_geomean:.2f}x\")\n",
    "    print(f\"Geometric mean of DeepTune-TL {deeptune_tl_geomean:.2f}x\")\n",
    "    print(f\"Geometric mean of Inst2Vec {ncc_geomean:.2f}x\")\n",
    "    print(f\"Geometric mean of IR2Vec Symbolic {ir2vec_sym_geomean:.3f}x\")\n",
    "    print(f\"Geometric mean of IR2Vec Flow-Aware {ir2vec_fa_geomean:.3f}x\")\n",
    "\n",
    "    return (\n",
    "        round(magni_geomean, 2),\n",
    "        round(deeptune_geomean, 2),\n",
    "        round(deeptune_tl_geomean, 2),\n",
    "        round(ncc_geomean, 2),\n",
    "        round(ir2vec_sym_geomean, 3),\n",
    "        round(ir2vec_fa_geomean, 3),\n",
    "    )"
   ]
  },
  {
   "cell_type": "code",
   "execution_count": 16,
   "metadata": {
    "scrolled": true
   },
   "outputs": [
    {
     "name": "stdout",
     "output_type": "stream",
     "text": [
      "Geometric mean of Magni et al. 0.94x\n",
      "Geometric mean of DeepTune 1.14x\n",
      "Geometric mean of DeepTune-TL 1.14x\n",
      "Geometric mean of Inst2Vec 1.15x\n",
      "Geometric mean of IR2Vec Symbolic 1.224x\n",
      "Geometric mean of IR2Vec Flow-Aware 1.225x\n"
     ]
    }
   ],
   "source": [
    "rad_magni, rad_dt, rad_dtTL, rad_ncc, rad_ir2vSym, rad_ir2vFA = calcSpeedup(\n",
    "    \"AMD Radeon HD 5900\"\n",
    ")"
   ]
  },
  {
   "cell_type": "code",
   "execution_count": 17,
   "metadata": {
    "scrolled": true
   },
   "outputs": [
    {
     "name": "stdout",
     "output_type": "stream",
     "text": [
      "Geometric mean of Magni et al. 0.98x\n",
      "Geometric mean of DeepTune 0.95x\n",
      "Geometric mean of DeepTune-TL 0.90x\n",
      "Geometric mean of Inst2Vec 1.04x\n",
      "Geometric mean of IR2Vec Symbolic 1.229x\n",
      "Geometric mean of IR2Vec Flow-Aware 1.219x\n"
     ]
    }
   ],
   "source": [
    "tah_magni, tah_dt, tah_dtTL, tah_ncc, tah_ir2vSym, tah_ir2vFA = calcSpeedup(\n",
    "    \"AMD Tahiti 7970\"\n",
    ")"
   ]
  },
  {
   "cell_type": "code",
   "execution_count": 18,
   "metadata": {},
   "outputs": [
    {
     "name": "stdout",
     "output_type": "stream",
     "text": [
      "Geometric mean of Magni et al. 0.81x\n",
      "Geometric mean of DeepTune 0.94x\n",
      "Geometric mean of DeepTune-TL 0.99x\n",
      "Geometric mean of Inst2Vec 0.95x\n",
      "Geometric mean of IR2Vec Symbolic 1.173x\n",
      "Geometric mean of IR2Vec Flow-Aware 1.126x\n"
     ]
    }
   ],
   "source": [
    "gtx_magni, gtx_dt, gtx_dtTL, gtx_ncc, gtx_ir2vSym, gtx_ir2vFA = calcSpeedup(\n",
    "    \"NVIDIA GTX 480\"\n",
    ")"
   ]
  },
  {
   "cell_type": "code",
   "execution_count": 19,
   "metadata": {},
   "outputs": [
    {
     "name": "stdout",
     "output_type": "stream",
     "text": [
      "Geometric mean of Magni et al. 0.74x\n",
      "Geometric mean of DeepTune 0.98x\n",
      "Geometric mean of DeepTune-TL 1.01x\n",
      "Geometric mean of Inst2Vec 1.01x\n",
      "Geometric mean of IR2Vec Symbolic 1.123x\n",
      "Geometric mean of IR2Vec Flow-Aware 1.122x\n"
     ]
    }
   ],
   "source": [
    "tes_magni, tes_dt, tes_dtTL, tes_ncc, tes_ir2vSym, tes_ir2vFA = calcSpeedup(\n",
    "    \"NVIDIA Tesla K20c\"\n",
    ")"
   ]
  },
  {
   "cell_type": "markdown",
   "metadata": {},
   "source": [
    "# Percentage of increase in speedup by IR2Vec Flow-Aware encodings over others"
   ]
  },
  {
   "cell_type": "code",
   "execution_count": 20,
   "metadata": {},
   "outputs": [
    {
     "name": "stdout",
     "output_type": "stream",
     "text": [
      "AMD Radeon HD 5900\n",
      " % Increase in SpeedUp over Magni et al -  30.32\n",
      " % Increase in SpeedUp over DeepTune -  7.46\n",
      " % Increase in SpeedUp over DeepTune_TL -  7.46\n",
      " % Increase in SpeedUp over Inst2Vec -  6.52\n",
      " % Increase in SpeedUp over IR2Vec Symbolic -  0.08\n",
      "\n",
      "AMD Tahiti 7970\n",
      " % Increase in SpeedUp over Magni et al -  24.39\n",
      " % Increase in SpeedUp over DeepTune -  28.32\n",
      " % Increase in SpeedUp over DeepTune_TL -  35.44\n",
      " % Increase in SpeedUp over Inst2Vec -  17.21\n",
      " % Increase in SpeedUp over IR2Vec Symbolic -  0.81\n",
      "\n",
      "NVIDIA GTX 480\n",
      " % Increase in SpeedUp over Magni et al -  39.01\n",
      " % Increase in SpeedUp over DeepTune -  19.79\n",
      " % Increase in SpeedUp over DeepTune_TL -  13.74\n",
      " % Increase in SpeedUp over Inst2Vec -  18.53\n",
      " % Increase in SpeedUp over IR2Vec Symbolic -  4.01\n",
      "\n",
      "NVIDIA Tesla K20c\n",
      " % Increase in SpeedUp over Magni et al -  51.62\n",
      " % Increase in SpeedUp over DeepTune -  14.49\n",
      " % Increase in SpeedUp over DeepTune_TL -  11.09\n",
      " % Increase in SpeedUp over Inst2Vec -  11.09\n",
      " % Increase in SpeedUp over IR2Vec Symbolic -  0.09\n"
     ]
    }
   ],
   "source": [
    "def percentage(value1, value2):\n",
    "    return round((np.abs(value2 - value1) / value2) * 100, 2)\n",
    "\n",
    "\n",
    "# AMD Radeon HD 5900\n",
    "print(\"AMD Radeon HD 5900\")\n",
    "print(\" % Increase in SpeedUp over Magni et al - \", percentage(rad_ir2vFA, rad_magni))\n",
    "print(\" % Increase in SpeedUp over DeepTune - \", percentage(rad_ir2vFA, rad_dt))\n",
    "print(\" % Increase in SpeedUp over DeepTune_TL - \", percentage(rad_ir2vFA, rad_dtTL))\n",
    "print(\" % Increase in SpeedUp over Inst2Vec - \", percentage(rad_ir2vFA, rad_ncc))\n",
    "print(\n",
    "    \" % Increase in SpeedUp over IR2Vec Symbolic - \",\n",
    "    percentage(rad_ir2vFA, rad_ir2vSym),\n",
    ")\n",
    "\n",
    "print(\"\\nAMD Tahiti 7970\")\n",
    "print(\" % Increase in SpeedUp over Magni et al - \", percentage(tah_ir2vFA, tah_magni))\n",
    "print(\" % Increase in SpeedUp over DeepTune - \", percentage(tah_ir2vFA, tah_dt))\n",
    "print(\" % Increase in SpeedUp over DeepTune_TL - \", percentage(tah_ir2vFA, tah_dtTL))\n",
    "print(\" % Increase in SpeedUp over Inst2Vec - \", percentage(tah_ir2vFA, tah_ncc))\n",
    "print(\n",
    "    \" % Increase in SpeedUp over IR2Vec Symbolic - \",\n",
    "    percentage(tah_ir2vFA, tah_ir2vSym),\n",
    ")\n",
    "\n",
    "print(\"\\nNVIDIA GTX 480\")\n",
    "print(\" % Increase in SpeedUp over Magni et al - \", percentage(gtx_ir2vFA, gtx_magni))\n",
    "print(\" % Increase in SpeedUp over DeepTune - \", percentage(gtx_ir2vFA, gtx_dt))\n",
    "print(\" % Increase in SpeedUp over DeepTune_TL - \", percentage(gtx_ir2vFA, gtx_dtTL))\n",
    "print(\" % Increase in SpeedUp over Inst2Vec - \", percentage(gtx_ir2vFA, gtx_ncc))\n",
    "print(\n",
    "    \" % Increase in SpeedUp over IR2Vec Symbolic - \",\n",
    "    percentage(gtx_ir2vFA, gtx_ir2vSym),\n",
    ")\n",
    "\n",
    "print(\"\\nNVIDIA Tesla K20c\")\n",
    "print(\" % Increase in SpeedUp over Magni et al - \", percentage(tes_ir2vFA, tes_magni))\n",
    "print(\" % Increase in SpeedUp over DeepTune - \", percentage(tes_ir2vFA, tes_dt))\n",
    "print(\" % Increase in SpeedUp over DeepTune_TL - \", percentage(tes_ir2vFA, tes_dtTL))\n",
    "print(\" % Increase in SpeedUp over Inst2Vec - \", percentage(tes_ir2vFA, tes_ncc))\n",
    "print(\n",
    "    \" % Increase in SpeedUp over IR2Vec Symbolic - \",\n",
    "    percentage(tes_ir2vFA, tes_ir2vSym),\n",
    ")"
   ]
  },
  {
   "cell_type": "code",
   "execution_count": null,
   "metadata": {},
   "outputs": [],
   "source": []
  }
 ],
 "metadata": {
  "kernelspec": {
   "display_name": "compiler_gym_py310",
   "language": "python",
   "name": "python3"
  },
  "language_info": {
   "codemirror_mode": {
    "name": "ipython",
    "version": 3
   },
   "file_extension": ".py",
   "mimetype": "text/x-python",
   "name": "python",
   "nbconvert_exporter": "python",
   "pygments_lexer": "ipython3",
   "version": "3.10.0"
  }
 },
 "nbformat": 4,
 "nbformat_minor": 2
}
