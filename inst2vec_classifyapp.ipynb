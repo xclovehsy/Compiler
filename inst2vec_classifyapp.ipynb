{
 "cells": [
  {
   "cell_type": "code",
   "execution_count": 1,
   "metadata": {},
   "outputs": [],
   "source": [
    "import os\n",
    "import pickle\n",
    "import torch\n",
    "import pandas as pd\n",
    "\n",
    "from tqdm import tqdm\n",
    "from torch import nn\n",
    "from torch import optim\n",
    "from torch.nn import functional as F\n",
    "from torch.utils.data import DataLoader\n",
    "from torch.utils.tensorboard import SummaryWriter\n",
    "from sklearn.metrics import f1_score, accuracy_score\n",
    "from datasets import *\n"
   ]
  },
  {
   "cell_type": "code",
   "execution_count": null,
   "metadata": {},
   "outputs": [],
   "source": [
    "data_folder = 'data/ClassifyAppDataset'\n",
    "num_epochs = 100\n",
    "batch_size = 64\n",
    "dense_layer_size = 200\n",
    "num_layer = 2\n",
    "print_summary = False\n",
    "out_folder = 'output/inst2vec_for_classifyapp_v2'\n",
    "device = 'cuda' if torch.cuda.is_available() else 'cpu'\n",
    "log_step = 10\n",
    "max_length = 512\n",
    "emb_path = 'src/observation/inst2vec/pickle/embeddings.pickle'\n",
    "\n",
    "if not os.path.exists(out_folder):\n",
    "    os.makedirs(out_folder)"
   ]
  },
  {
   "cell_type": "markdown",
   "metadata": {},
   "source": [
    "## 加载数据集"
   ]
  },
  {
   "cell_type": "code",
   "execution_count": 3,
   "metadata": {},
   "outputs": [],
   "source": [
    "def collate_fn(batch, padding_value=8564, max_length=max_length):\n",
    "    input_ids, labels = [item['input_ids'] for item in batch], [item['labels'] for item in batch]\n",
    "    padded_batch = []\n",
    "    if max_length == None:\n",
    "        max_length = max(len(item) for item in input_ids)\n",
    "    \n",
    "    for item in input_ids:\n",
    "        padded_item = item + [padding_value] * max(0, (max_length - len(item)))\n",
    "        padded_item = padded_item[:max_length]\n",
    "        padded_batch.append(padded_item)\n",
    "    return {\"input_ids\": torch.tensor(padded_batch), \"labels\": torch.tensor(labels)}\n",
    "\n",
    "dataset = load_from_disk(\"/root/Compiler-master/data/ClassifyAppDataset\")\n",
    "train_loader = DataLoader(dataset['train'], batch_size=batch_size, collate_fn=collate_fn, shuffle=True)\n",
    "test_loader = DataLoader(dataset['test'], batch_size=batch_size, collate_fn=collate_fn)\n",
    "val_loader = DataLoader(dataset['val'], batch_size=batch_size, collate_fn=collate_fn)"
   ]
  },
  {
   "cell_type": "code",
   "execution_count": 4,
   "metadata": {},
   "outputs": [
    {
     "data": {
      "text/plain": [
       "DatasetDict({\n",
       "    train: Dataset({\n",
       "        features: ['input_ids', 'labels'],\n",
       "        num_rows: 221344\n",
       "    })\n",
       "    test: Dataset({\n",
       "        features: ['input_ids', 'labels'],\n",
       "        num_rows: 9227\n",
       "    })\n",
       "    val: Dataset({\n",
       "        features: ['input_ids', 'labels'],\n",
       "        num_rows: 9155\n",
       "    })\n",
       "})"
      ]
     },
     "execution_count": 4,
     "metadata": {},
     "output_type": "execute_result"
    }
   ],
   "source": [
    "dataset"
   ]
  },
  {
   "cell_type": "code",
   "execution_count": 5,
   "metadata": {},
   "outputs": [
    {
     "data": {
      "text/plain": [
       "{'input_ids': tensor([[   0, 8564,   40,  ..., 8564, 8564, 8564],\n",
       "         [   0, 8564,   40,  ..., 8564, 8564, 8564],\n",
       "         [8564, 8564, 8564,  ..., 8564, 8564, 8564],\n",
       "         ...,\n",
       "         [   0, 8564,   68,  ..., 8564, 8564, 8564],\n",
       "         [8564, 8564, 8564,  ..., 8564, 8564, 8564],\n",
       "         [   0, 8564,   45,  ..., 8564, 8564, 8564]]),\n",
       " 'labels': tensor([ 85,  69,  10,  14,   5,  60, 100,   8,   9,  10,  71,  85,  60,  67,\n",
       "          95,  79,  28,  34,   5,  55,  14,  18,  27,  34,  42,  76,  60,  33,\n",
       "          14,  48,  94,  49,  76, 101,  40,   5,  20,  93,  82,  83,  18,  55,\n",
       "          88,  80,  72,  55,  29,   3,  91,  12,  50,  91,  40,  99,  23,  25,\n",
       "          17,  11,  36,   8,  15,  78,  61,  51])}"
      ]
     },
     "execution_count": 5,
     "metadata": {},
     "output_type": "execute_result"
    }
   ],
   "source": [
    "next(iter(train_loader))"
   ]
  },
  {
   "cell_type": "markdown",
   "metadata": {},
   "source": [
    "## 定义网络模型"
   ]
  },
  {
   "cell_type": "code",
   "execution_count": 8,
   "metadata": {},
   "outputs": [],
   "source": [
    "# 定义网络结构\n",
    "class ClassifyAppLSTM(nn.Module):\n",
    "    def __init__(self, embedding_dim, dense_layer_size, num_classes, num_layers, dropout):\n",
    "        super(ClassifyAppLSTM, self).__init__()\n",
    "        # Embedding \n",
    "        with open(emb_path, \"rb\") as f:\n",
    "            embeddings = pickle.load(f)\n",
    "        embeddings = torch.tensor(embeddings, dtype=torch.float32)\n",
    "        embedding_matrix_normalized = F.normalize(embeddings, p=2, dim=1)\n",
    "        self.embedding = nn.Embedding.from_pretrained(embedding_matrix_normalized, freeze=False)\n",
    "\n",
    "        # LSTM layers\n",
    "        self.lstm = nn.LSTM(embedding_dim, embedding_dim, num_layers,\n",
    "                            bidirectional=True, batch_first=True, dropout=dropout)\n",
    "        \n",
    "        # self.fc = nn.Linear(embedding_dim * 2, num_classes)\n",
    "        # self.classifier = torch.nn.Sequential(\n",
    "        #     torch.nn.Dropout(dropout),\n",
    "        #     torch.nn.Linear(hidden_dim, 1),\n",
    "        #     torch.nn.Sigmoid()\n",
    "        # )\n",
    "\n",
    "        # self.batchnorm = nn.BatchNorm1d(embedding_dim * 2)\n",
    "\n",
    "        # Dense layers\n",
    "        self.dense1 = nn.Linear(embedding_dim * 2, dense_layer_size)\n",
    "        self.dense2 = nn.Linear(dense_layer_size, num_classes)\n",
    "\n",
    "        # Activation functions\n",
    "        self.relu = nn.ReLU()\n",
    "        \n",
    "    def forward(self, x):\n",
    "        # Embedding\n",
    "        x = self.embedding(x)\n",
    "        \n",
    "        # LSTM layers\n",
    "        x, _ = self.lstm(x)\n",
    "\n",
    "        # Take the output of the last time step\n",
    "        # x = \n",
    "\n",
    "        # Dense layers\n",
    "        x = self.relu(self.dense1(x[:, -1, :]))\n",
    "        x = self.dense2(x)\n",
    "\n",
    "        return x\n",
    "        # return self.fc(x[:, -1, :])\n",
    "\n",
    "        # return x\n",
    "    \n",
    "\n",
    "model = ClassifyAppLSTM(200, 200, 104, 3, 0.5)\n",
    "# model.load_state_dict(torch.load('output/inst2vec_for_classifyapp/best_epoch_99_eval_f1_94_acc_94.pth', weights_only=False))\n",
    "model = model.to(device)\n",
    "criterion = nn.CrossEntropyLoss()\n",
    "optimizer = optim.Adam(model.parameters(), lr=0.001)"
   ]
  },
  {
   "cell_type": "code",
   "execution_count": 11,
   "metadata": {},
   "outputs": [],
   "source": [
    "data = {k: v.to(device) for k, v in next(iter(train_loader)).items()}\n",
    "output = model(data['input_ids'])"
   ]
  },
  {
   "cell_type": "code",
   "execution_count": 10,
   "metadata": {},
   "outputs": [
    {
     "data": {
      "text/plain": [
       "ClassifyAppLSTM(\n",
       "  (embedding): Embedding(8565, 200)\n",
       "  (lstm): LSTM(200, 200, num_layers=3, batch_first=True, dropout=0.5, bidirectional=True)\n",
       "  (dense1): Linear(in_features=400, out_features=200, bias=True)\n",
       "  (dense2): Linear(in_features=200, out_features=104, bias=True)\n",
       "  (relu): ReLU()\n",
       ")"
      ]
     },
     "execution_count": 10,
     "metadata": {},
     "output_type": "execute_result"
    }
   ],
   "source": [
    "model"
   ]
  },
  {
   "cell_type": "code",
   "execution_count": 12,
   "metadata": {},
   "outputs": [
    {
     "data": {
      "text/plain": [
       "tensor(4.6416, device='cuda:0', grad_fn=<NllLossBackward0>)"
      ]
     },
     "execution_count": 12,
     "metadata": {},
     "output_type": "execute_result"
    }
   ],
   "source": [
    "criterion(output, data['labels'])"
   ]
  },
  {
   "cell_type": "code",
   "execution_count": null,
   "metadata": {},
   "outputs": [],
   "source": [
    "def eval_model(model, loader):\n",
    "    model.eval()\n",
    "    correct = 0\n",
    "    y_true, y_pred = [], []\n",
    "    progress_bar = tqdm(loader, desc='Eval', leave=False)\n",
    "    with torch.no_grad():\n",
    "        for idx, batch in enumerate(progress_bar):\n",
    "            data = {k: v.to(device) for k, v in batch.items()}\n",
    "            outputs = model(data['input_ids'])\n",
    "            preds = outputs.argmax(dim=1)\n",
    "            y_pred += preds.tolist()\n",
    "            y_true += data['labels'].tolist()\n",
    "    f1_weighted = f1_score(y_true, y_pred, average='weighted')\n",
    "    acc = accuracy_score(y_true, y_pred)\n",
    "    progress_bar.set_postfix(f1=f1_weighted, acc=acc)\n",
    "    return f1_weighted, acc\n",
    "\n",
    "def train_model(model, train_loader, val_loader,  criterion, optimizer, num_epochs):\n",
    "    # 模型训练\n",
    "    writer = SummaryWriter(out_folder)\n",
    "    pre_val_f1 = 0\n",
    "    gloabl_step = 0\n",
    "    for epoch in range(num_epochs):\n",
    "        epoch_loss = 0\n",
    "        correct = 0\n",
    "        step = 0\n",
    "        model.train()\n",
    "        y_true, y_pred = [], []\n",
    "        acc_num = 0\n",
    "\n",
    "        progress_bar = tqdm(train_loader, desc=f\"Epoch {epoch + 1}/{num_epochs}\", leave=False)\n",
    "\n",
    "        running_loss = 0.0\n",
    "        for idx, batch in enumerate(progress_bar):\n",
    "            data = {k: v.to(device) for k, v in batch.items()}\n",
    "            \n",
    "            outputs = model(data['input_ids'])\n",
    "            loss = criterion(outputs, data['labels'])\n",
    "\n",
    "            optimizer.zero_grad()\n",
    "            loss.backward()\n",
    "            optimizer.step()\n",
    "\n",
    "            preds = outputs.argmax(dim=1)\n",
    "            y_pred += preds.tolist()\n",
    "            y_true += data['labels'].tolist()\n",
    "\n",
    "            if gloabl_step % log_step == 0:\n",
    "                writer.add_scalar('train_loss', loss.item(), gloabl_step)\n",
    "            gloabl_step += 1\n",
    "\n",
    "            running_loss += loss.item()\n",
    "            acc_num += torch.sum(data['labels'] == preds).item()\n",
    "            progress_bar.set_postfix(loss=running_loss / (idx + 1), acc=acc_num / len(y_pred))\n",
    "                    \n",
    "        train_f1, train_acc = f1_score(y_true, y_pred, average='weighted'), accuracy_score(y_true, y_pred)\n",
    "        val_f1, val_acc = eval_model(model, val_loader)\n",
    "        writer.add_scalar('train_f1', train_f1, epoch)\n",
    "        writer.add_scalar('train_acc', train_acc, epoch)\n",
    "        writer.add_scalar('val_f1', val_f1, epoch)\n",
    "        writer.add_scalar('val_acc', val_acc, epoch)\n",
    "\n",
    "        checkpoint = {\n",
    "            'model_state_dict': model.state_dict(),\n",
    "            'epoch': epoch,\n",
    "            'val_acc': val_acc,\n",
    "            'val_f1': val_f1\n",
    "        }\n",
    "\n",
    "        if val_acc > pre_val_acc:\n",
    "            pre_val_acc = val_acc\n",
    "            torch.save(checkpoint, out_folder + f'/best_checkpoint.pth')\n",
    "            \n",
    "        torch.save(checkpoint, out_folder + f'/last_checkpoint.pth')\n",
    "        \n"
   ]
  },
  {
   "cell_type": "code",
   "execution_count": 12,
   "metadata": {},
   "outputs": [
    {
     "data": {
      "application/vnd.jupyter.widget-view+json": {
       "model_id": "12ae6ba05920472fa4f4d39989e3d189",
       "version_major": 2,
       "version_minor": 0
      },
      "text/plain": [
       "Epoch 1/100:   0%|          | 0/3459 [00:00<?, ?it/s]"
      ]
     },
     "metadata": {},
     "output_type": "display_data"
    },
    {
     "data": {
      "application/vnd.jupyter.widget-view+json": {
       "model_id": "ecbce1c9eb6b442ba27826d25baf3ead",
       "version_major": 2,
       "version_minor": 0
      },
      "text/plain": [
       "Eval:   0%|          | 0/144 [00:00<?, ?it/s]"
      ]
     },
     "metadata": {},
     "output_type": "display_data"
    },
    {
     "data": {
      "application/vnd.jupyter.widget-view+json": {
       "model_id": "e9031a4e6abf45ca92e108b7e43be6b2",
       "version_major": 2,
       "version_minor": 0
      },
      "text/plain": [
       "Epoch 2/100:   0%|          | 0/3459 [00:00<?, ?it/s]"
      ]
     },
     "metadata": {},
     "output_type": "display_data"
    },
    {
     "data": {
      "application/vnd.jupyter.widget-view+json": {
       "model_id": "1530b596cfe74c4580fdebd6b279355f",
       "version_major": 2,
       "version_minor": 0
      },
      "text/plain": [
       "Eval:   0%|          | 0/144 [00:00<?, ?it/s]"
      ]
     },
     "metadata": {},
     "output_type": "display_data"
    },
    {
     "data": {
      "application/vnd.jupyter.widget-view+json": {
       "model_id": "d9f092be914f45c39f690ae21e8cb6da",
       "version_major": 2,
       "version_minor": 0
      },
      "text/plain": [
       "Epoch 3/100:   0%|          | 0/3459 [00:00<?, ?it/s]"
      ]
     },
     "metadata": {},
     "output_type": "display_data"
    },
    {
     "data": {
      "application/vnd.jupyter.widget-view+json": {
       "model_id": "a29a472df2384bdd8e4812c4b8d77220",
       "version_major": 2,
       "version_minor": 0
      },
      "text/plain": [
       "Eval:   0%|          | 0/144 [00:00<?, ?it/s]"
      ]
     },
     "metadata": {},
     "output_type": "display_data"
    },
    {
     "data": {
      "application/vnd.jupyter.widget-view+json": {
       "model_id": "f84827afa38043819096b077c5756baf",
       "version_major": 2,
       "version_minor": 0
      },
      "text/plain": [
       "Epoch 4/100:   0%|          | 0/3459 [00:00<?, ?it/s]"
      ]
     },
     "metadata": {},
     "output_type": "display_data"
    },
    {
     "data": {
      "application/vnd.jupyter.widget-view+json": {
       "model_id": "9d58ca7ca8ea44e0aefe62029854cfac",
       "version_major": 2,
       "version_minor": 0
      },
      "text/plain": [
       "Eval:   0%|          | 0/144 [00:00<?, ?it/s]"
      ]
     },
     "metadata": {},
     "output_type": "display_data"
    },
    {
     "data": {
      "application/vnd.jupyter.widget-view+json": {
       "model_id": "7bfc8f23ec0b4834a27ce8b465711553",
       "version_major": 2,
       "version_minor": 0
      },
      "text/plain": [
       "Epoch 5/100:   0%|          | 0/3459 [00:00<?, ?it/s]"
      ]
     },
     "metadata": {},
     "output_type": "display_data"
    },
    {
     "ename": "KeyboardInterrupt",
     "evalue": "",
     "output_type": "error",
     "traceback": [
      "\u001b[0;31m---------------------------------------------------------------------------\u001b[0m",
      "\u001b[0;31mKeyboardInterrupt\u001b[0m                         Traceback (most recent call last)",
      "Cell \u001b[0;32mIn[12], line 1\u001b[0m\n\u001b[0;32m----> 1\u001b[0m \u001b[43mtrain_model\u001b[49m\u001b[43m(\u001b[49m\u001b[43mmodel\u001b[49m\u001b[43m,\u001b[49m\u001b[43m \u001b[49m\u001b[43mtrain_loader\u001b[49m\u001b[43m,\u001b[49m\u001b[43m \u001b[49m\u001b[43mval_loader\u001b[49m\u001b[43m,\u001b[49m\u001b[43m \u001b[49m\u001b[43mcriterion\u001b[49m\u001b[43m,\u001b[49m\u001b[43m \u001b[49m\u001b[43moptimizer\u001b[49m\u001b[43m,\u001b[49m\u001b[43m \u001b[49m\u001b[43mnum_epochs\u001b[49m\u001b[43m)\u001b[49m\n\u001b[1;32m      2\u001b[0m \u001b[38;5;66;03m# eval_model(model, val_loader)\u001b[39;00m\n",
      "Cell \u001b[0;32mIn[11], line 41\u001b[0m, in \u001b[0;36mtrain_model\u001b[0;34m(model, train_loader, val_loader, criterion, optimizer, num_epochs)\u001b[0m\n\u001b[1;32m     38\u001b[0m loss \u001b[38;5;241m=\u001b[39m criterion(outputs, data[\u001b[38;5;124m'\u001b[39m\u001b[38;5;124mlabels\u001b[39m\u001b[38;5;124m'\u001b[39m])\n\u001b[1;32m     40\u001b[0m optimizer\u001b[38;5;241m.\u001b[39mzero_grad()\n\u001b[0;32m---> 41\u001b[0m \u001b[43mloss\u001b[49m\u001b[38;5;241;43m.\u001b[39;49m\u001b[43mbackward\u001b[49m\u001b[43m(\u001b[49m\u001b[43m)\u001b[49m\n\u001b[1;32m     42\u001b[0m optimizer\u001b[38;5;241m.\u001b[39mstep()\n\u001b[1;32m     44\u001b[0m preds \u001b[38;5;241m=\u001b[39m outputs\u001b[38;5;241m.\u001b[39margmax(dim\u001b[38;5;241m=\u001b[39m\u001b[38;5;241m1\u001b[39m)\n",
      "File \u001b[0;32m~/anaconda3/envs/compiler_gym_py310/lib/python3.10/site-packages/torch/_tensor.py:581\u001b[0m, in \u001b[0;36mTensor.backward\u001b[0;34m(self, gradient, retain_graph, create_graph, inputs)\u001b[0m\n\u001b[1;32m    571\u001b[0m \u001b[38;5;28;01mif\u001b[39;00m has_torch_function_unary(\u001b[38;5;28mself\u001b[39m):\n\u001b[1;32m    572\u001b[0m     \u001b[38;5;28;01mreturn\u001b[39;00m handle_torch_function(\n\u001b[1;32m    573\u001b[0m         Tensor\u001b[38;5;241m.\u001b[39mbackward,\n\u001b[1;32m    574\u001b[0m         (\u001b[38;5;28mself\u001b[39m,),\n\u001b[0;32m   (...)\u001b[0m\n\u001b[1;32m    579\u001b[0m         inputs\u001b[38;5;241m=\u001b[39minputs,\n\u001b[1;32m    580\u001b[0m     )\n\u001b[0;32m--> 581\u001b[0m \u001b[43mtorch\u001b[49m\u001b[38;5;241;43m.\u001b[39;49m\u001b[43mautograd\u001b[49m\u001b[38;5;241;43m.\u001b[39;49m\u001b[43mbackward\u001b[49m\u001b[43m(\u001b[49m\n\u001b[1;32m    582\u001b[0m \u001b[43m    \u001b[49m\u001b[38;5;28;43mself\u001b[39;49m\u001b[43m,\u001b[49m\u001b[43m \u001b[49m\u001b[43mgradient\u001b[49m\u001b[43m,\u001b[49m\u001b[43m \u001b[49m\u001b[43mretain_graph\u001b[49m\u001b[43m,\u001b[49m\u001b[43m \u001b[49m\u001b[43mcreate_graph\u001b[49m\u001b[43m,\u001b[49m\u001b[43m \u001b[49m\u001b[43minputs\u001b[49m\u001b[38;5;241;43m=\u001b[39;49m\u001b[43minputs\u001b[49m\n\u001b[1;32m    583\u001b[0m \u001b[43m\u001b[49m\u001b[43m)\u001b[49m\n",
      "File \u001b[0;32m~/anaconda3/envs/compiler_gym_py310/lib/python3.10/site-packages/torch/autograd/__init__.py:347\u001b[0m, in \u001b[0;36mbackward\u001b[0;34m(tensors, grad_tensors, retain_graph, create_graph, grad_variables, inputs)\u001b[0m\n\u001b[1;32m    342\u001b[0m     retain_graph \u001b[38;5;241m=\u001b[39m create_graph\n\u001b[1;32m    344\u001b[0m \u001b[38;5;66;03m# The reason we repeat the same comment below is that\u001b[39;00m\n\u001b[1;32m    345\u001b[0m \u001b[38;5;66;03m# some Python versions print out the first line of a multi-line function\u001b[39;00m\n\u001b[1;32m    346\u001b[0m \u001b[38;5;66;03m# calls in the traceback and some print out the last line\u001b[39;00m\n\u001b[0;32m--> 347\u001b[0m \u001b[43m_engine_run_backward\u001b[49m\u001b[43m(\u001b[49m\n\u001b[1;32m    348\u001b[0m \u001b[43m    \u001b[49m\u001b[43mtensors\u001b[49m\u001b[43m,\u001b[49m\n\u001b[1;32m    349\u001b[0m \u001b[43m    \u001b[49m\u001b[43mgrad_tensors_\u001b[49m\u001b[43m,\u001b[49m\n\u001b[1;32m    350\u001b[0m \u001b[43m    \u001b[49m\u001b[43mretain_graph\u001b[49m\u001b[43m,\u001b[49m\n\u001b[1;32m    351\u001b[0m \u001b[43m    \u001b[49m\u001b[43mcreate_graph\u001b[49m\u001b[43m,\u001b[49m\n\u001b[1;32m    352\u001b[0m \u001b[43m    \u001b[49m\u001b[43minputs\u001b[49m\u001b[43m,\u001b[49m\n\u001b[1;32m    353\u001b[0m \u001b[43m    \u001b[49m\u001b[43mallow_unreachable\u001b[49m\u001b[38;5;241;43m=\u001b[39;49m\u001b[38;5;28;43;01mTrue\u001b[39;49;00m\u001b[43m,\u001b[49m\n\u001b[1;32m    354\u001b[0m \u001b[43m    \u001b[49m\u001b[43maccumulate_grad\u001b[49m\u001b[38;5;241;43m=\u001b[39;49m\u001b[38;5;28;43;01mTrue\u001b[39;49;00m\u001b[43m,\u001b[49m\n\u001b[1;32m    355\u001b[0m \u001b[43m\u001b[49m\u001b[43m)\u001b[49m\n",
      "File \u001b[0;32m~/anaconda3/envs/compiler_gym_py310/lib/python3.10/site-packages/torch/autograd/graph.py:825\u001b[0m, in \u001b[0;36m_engine_run_backward\u001b[0;34m(t_outputs, *args, **kwargs)\u001b[0m\n\u001b[1;32m    823\u001b[0m     unregister_hooks \u001b[38;5;241m=\u001b[39m _register_logging_hooks_on_whole_graph(t_outputs)\n\u001b[1;32m    824\u001b[0m \u001b[38;5;28;01mtry\u001b[39;00m:\n\u001b[0;32m--> 825\u001b[0m     \u001b[38;5;28;01mreturn\u001b[39;00m \u001b[43mVariable\u001b[49m\u001b[38;5;241;43m.\u001b[39;49m\u001b[43m_execution_engine\u001b[49m\u001b[38;5;241;43m.\u001b[39;49m\u001b[43mrun_backward\u001b[49m\u001b[43m(\u001b[49m\u001b[43m  \u001b[49m\u001b[38;5;66;43;03m# Calls into the C++ engine to run the backward pass\u001b[39;49;00m\n\u001b[1;32m    826\u001b[0m \u001b[43m        \u001b[49m\u001b[43mt_outputs\u001b[49m\u001b[43m,\u001b[49m\u001b[43m \u001b[49m\u001b[38;5;241;43m*\u001b[39;49m\u001b[43margs\u001b[49m\u001b[43m,\u001b[49m\u001b[43m \u001b[49m\u001b[38;5;241;43m*\u001b[39;49m\u001b[38;5;241;43m*\u001b[39;49m\u001b[43mkwargs\u001b[49m\n\u001b[1;32m    827\u001b[0m \u001b[43m    \u001b[49m\u001b[43m)\u001b[49m  \u001b[38;5;66;03m# Calls into the C++ engine to run the backward pass\u001b[39;00m\n\u001b[1;32m    828\u001b[0m \u001b[38;5;28;01mfinally\u001b[39;00m:\n\u001b[1;32m    829\u001b[0m     \u001b[38;5;28;01mif\u001b[39;00m attach_logging_hooks:\n",
      "\u001b[0;31mKeyboardInterrupt\u001b[0m: "
     ]
    }
   ],
   "source": [
    "train_model(model, train_loader, val_loader, criterion, optimizer, num_epochs)\n",
    "# eval_model(model, val_loader)"
   ]
  },
  {
   "cell_type": "code",
   "execution_count": 7,
   "metadata": {},
   "outputs": [
    {
     "data": {
      "application/vnd.jupyter.widget-view+json": {
       "model_id": "dfb9b681e4234199a45b054b9a979cb4",
       "version_major": 2,
       "version_minor": 0
      },
      "text/plain": [
       "Eval:   0%|          | 0/145 [00:00<?, ?it/s]"
      ]
     },
     "metadata": {},
     "output_type": "display_data"
    },
    {
     "data": {
      "text/plain": [
       "(0.9418511073845527, 0.9419096130920126)"
      ]
     },
     "execution_count": 7,
     "metadata": {},
     "output_type": "execute_result"
    }
   ],
   "source": [
    "eval_model(model, test_loader)"
   ]
  },
  {
   "cell_type": "code",
   "execution_count": null,
   "metadata": {},
   "outputs": [],
   "source": []
  }
 ],
 "metadata": {
  "kernelspec": {
   "display_name": "compiler_gym_py310",
   "language": "python",
   "name": "python3"
  },
  "language_info": {
   "codemirror_mode": {
    "name": "ipython",
    "version": 3
   },
   "file_extension": ".py",
   "mimetype": "text/x-python",
   "name": "python",
   "nbconvert_exporter": "python",
   "pygments_lexer": "ipython3",
   "version": "3.10.0"
  }
 },
 "nbformat": 4,
 "nbformat_minor": 2
}
