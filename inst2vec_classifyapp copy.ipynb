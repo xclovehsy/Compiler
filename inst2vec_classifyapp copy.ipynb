{
 "cells": [
  {
   "cell_type": "code",
   "execution_count": 1,
   "metadata": {},
   "outputs": [],
   "source": [
    "import os\n",
    "import pickle\n",
    "import torch\n",
    "import pandas as pd\n",
    "\n",
    "from tqdm import tqdm\n",
    "from torch import nn\n",
    "from torch import optim\n",
    "from torch.nn import functional as F\n",
    "from torch.utils.data import DataLoader\n",
    "from torch.utils.tensorboard import SummaryWriter\n",
    "from sklearn.metrics import f1_score, accuracy_score\n",
    "from datasets import *\n"
   ]
  },
  {
   "cell_type": "code",
   "execution_count": 2,
   "metadata": {},
   "outputs": [],
   "source": [
    "data_folder = 'data/ClassifyAppDataset'\n",
    "num_epochs = 100\n",
    "batch_size = 64\n",
    "dense_layer_size = 200\n",
    "num_layer = 2\n",
    "print_summary = False\n",
    "out_folder = 'output/inst2vec_for_classifyapp'\n",
    "device = 'cuda' if torch.cuda.is_available() else 'cpu'\n",
    "log_step = 10\n",
    "max_length = 512\n",
    "emb_path = 'src/observation/inst2vec/pickle/embeddings.pickle'\n",
    "\n",
    "if not os.path.exists(out_folder):\n",
    "    os.makedirs(out_folder)"
   ]
  },
  {
   "cell_type": "markdown",
   "metadata": {},
   "source": [
    "## 加载数据集"
   ]
  },
  {
   "cell_type": "code",
   "execution_count": 3,
   "metadata": {},
   "outputs": [],
   "source": [
    "def collate_fn(batch, padding_value=8564, max_length=max_length):\n",
    "    input_ids, labels = [item['input_ids'] for item in batch], [item['labels'] for item in batch]\n",
    "    padded_batch = []\n",
    "    if max_length == None:\n",
    "        max_length = max(len(item) for item in input_ids)\n",
    "    \n",
    "    for item in input_ids:\n",
    "        padded_item = item + [padding_value] * max(0, (max_length - len(item)))\n",
    "        padded_item = padded_item[:max_length]\n",
    "        padded_batch.append(padded_item)\n",
    "    return {\"input_ids\": torch.tensor(padded_batch), \"labels\": torch.tensor(labels)}\n",
    "\n",
    "dataset = load_from_disk(\"/root/Compiler-master/data/ClassifyAppDataset\")\n",
    "train_loader = DataLoader(dataset['train'], batch_size=batch_size, collate_fn=collate_fn, shuffle=True)\n",
    "test_loader = DataLoader(dataset['test'], batch_size=batch_size, collate_fn=collate_fn)\n",
    "val_loader = DataLoader(dataset['val'], batch_size=batch_size, collate_fn=collate_fn)"
   ]
  },
  {
   "cell_type": "code",
   "execution_count": 4,
   "metadata": {},
   "outputs": [
    {
     "data": {
      "text/plain": [
       "DatasetDict({\n",
       "    train: Dataset({\n",
       "        features: ['input_ids', 'labels'],\n",
       "        num_rows: 221344\n",
       "    })\n",
       "    test: Dataset({\n",
       "        features: ['input_ids', 'labels'],\n",
       "        num_rows: 9227\n",
       "    })\n",
       "    val: Dataset({\n",
       "        features: ['input_ids', 'labels'],\n",
       "        num_rows: 9155\n",
       "    })\n",
       "})"
      ]
     },
     "execution_count": 4,
     "metadata": {},
     "output_type": "execute_result"
    }
   ],
   "source": [
    "dataset"
   ]
  },
  {
   "cell_type": "code",
   "execution_count": 5,
   "metadata": {},
   "outputs": [
    {
     "data": {
      "text/plain": [
       "{'input_ids': tensor([[   0, 8564,   40,  ..., 8564, 8564, 8564],\n",
       "         [   0, 8564,   40,  ..., 8564, 8564, 8564],\n",
       "         [8564, 8564, 8564,  ..., 8564, 8564, 8564],\n",
       "         ...,\n",
       "         [   0, 8564,   68,  ..., 8564, 8564, 8564],\n",
       "         [8564, 8564, 8564,  ..., 8564, 8564, 8564],\n",
       "         [   0, 8564,   45,  ..., 8564, 8564, 8564]]),\n",
       " 'labels': tensor([ 85,  69,  10,  14,   5,  60, 100,   8,   9,  10,  71,  85,  60,  67,\n",
       "          95,  79,  28,  34,   5,  55,  14,  18,  27,  34,  42,  76,  60,  33,\n",
       "          14,  48,  94,  49,  76, 101,  40,   5,  20,  93,  82,  83,  18,  55,\n",
       "          88,  80,  72,  55,  29,   3,  91,  12,  50,  91,  40,  99,  23,  25,\n",
       "          17,  11,  36,   8,  15,  78,  61,  51])}"
      ]
     },
     "execution_count": 5,
     "metadata": {},
     "output_type": "execute_result"
    }
   ],
   "source": [
    "next(iter(train_loader))"
   ]
  },
  {
   "cell_type": "markdown",
   "metadata": {},
   "source": [
    "## 定义网络模型"
   ]
  },
  {
   "cell_type": "code",
   "execution_count": 6,
   "metadata": {},
   "outputs": [],
   "source": [
    "# 定义网络结构\n",
    "class ClassifyAppLSTM(nn.Module):\n",
    "    def __init__(self, embedding_dim, dense_layer_size, num_classes, num_layers, dropout):\n",
    "        super(ClassifyAppLSTM, self).__init__()\n",
    "        # Embedding \n",
    "        with open(emb_path, \"rb\") as f:\n",
    "            embeddings = pickle.load(f)\n",
    "        embeddings = torch.tensor(embeddings, dtype=torch.float32)\n",
    "        embedding_matrix_normalized = F.normalize(embeddings, p=2, dim=1)\n",
    "        self.embedding = nn.Embedding.from_pretrained(embedding_matrix_normalized, freeze=False)\n",
    "\n",
    "        # LSTM layers\n",
    "        self.lstm = nn.LSTM(embedding_dim, embedding_dim, num_layers,\n",
    "                            bidirectional=True, batch_first=True, dropout=dropout)\n",
    "        \n",
    "        self.fc = nn.Linear(embedding_dim * 2, num_classes)\n",
    "        # self.classifier = torch.nn.Sequential(\n",
    "        #     torch.nn.Dropout(dropout),\n",
    "        #     torch.nn.Linear(hidden_dim, 1),\n",
    "        #     torch.nn.Sigmoid()\n",
    "        # )\n",
    "\n",
    "        # Dense layers\n",
    "        # self.dense1 = nn.Linear(embedding_dim * 2, dense_layer_size)\n",
    "        # self.dense2 = nn.Linear(dense_layer_size, num_classes)\n",
    "\n",
    "        # Activation functions\n",
    "        # self.relu = nn.ReLU()\n",
    "        \n",
    "    def forward(self, x):\n",
    "        # Embedding\n",
    "        x = self.embedding(x)\n",
    "        \n",
    "        # LSTM layers\n",
    "        x, _ = self.lstm(x)\n",
    "\n",
    "        # Take the output of the last time step\n",
    "        # x = \n",
    "\n",
    "        # Dense layers\n",
    "        # x = self.relu(self.dense1(x))\n",
    "        # x = self.dense2(x)\n",
    "        return self.fc(x[:, -1, :])\n",
    "\n",
    "        # return x\n",
    "    \n",
    "\n",
    "model = ClassifyAppLSTM(200, 200, 104, 3, 0.5)\n",
    "model = model.to(device)\n",
    "criterion = nn.CrossEntropyLoss()\n",
    "optimizer = optim.Adam(model.parameters(), lr=0.001)"
   ]
  },
  {
   "cell_type": "code",
   "execution_count": 7,
   "metadata": {},
   "outputs": [
    {
     "data": {
      "text/plain": [
       "tensor([[-0.0124,  0.0412,  0.0548,  ..., -0.0237,  0.0373,  0.0222],\n",
       "        [-0.0204,  0.0378,  0.0436,  ..., -0.0264,  0.0300,  0.0240],\n",
       "        [-0.0131,  0.0431,  0.0514,  ..., -0.0245,  0.0319,  0.0259],\n",
       "        ...,\n",
       "        [-0.0174,  0.0431,  0.0565,  ..., -0.0269,  0.0352,  0.0249],\n",
       "        [-0.0108,  0.0432,  0.0621,  ..., -0.0233,  0.0285,  0.0221],\n",
       "        [-0.0142,  0.0436,  0.0547,  ..., -0.0256,  0.0351,  0.0194]],\n",
       "       device='cuda:0', grad_fn=<AddmmBackward0>)"
      ]
     },
     "execution_count": 7,
     "metadata": {},
     "output_type": "execute_result"
    }
   ],
   "source": [
    "data = {k: v.to(device) for k, v in next(iter(train_loader)).items()}\n",
    "model(data['input_ids'])"
   ]
  },
  {
   "cell_type": "code",
   "execution_count": 8,
   "metadata": {},
   "outputs": [
    {
     "data": {
      "text/plain": [
       "ClassifyAppLSTM(\n",
       "  (embedding): Embedding(8565, 200)\n",
       "  (lstm): LSTM(200, 200, num_layers=3, batch_first=True, dropout=0.5, bidirectional=True)\n",
       "  (fc): Linear(in_features=400, out_features=104, bias=True)\n",
       ")"
      ]
     },
     "execution_count": 8,
     "metadata": {},
     "output_type": "execute_result"
    }
   ],
   "source": [
    "model"
   ]
  },
  {
   "cell_type": "code",
   "execution_count": 11,
   "metadata": {},
   "outputs": [],
   "source": [
    "def eval_model(model, loader):\n",
    "    model.eval()\n",
    "    correct = 0\n",
    "    y_true, y_pred = [], []\n",
    "    progress_bar = tqdm(loader, desc='Eval', leave=False)\n",
    "    with torch.no_grad():\n",
    "        for idx, batch in enumerate(progress_bar):\n",
    "            data = {k: v.to(device) for k, v in batch.items()}\n",
    "            outputs = model(data['input_ids'])\n",
    "            preds = outputs.argmax(dim=1)\n",
    "            y_pred += preds.tolist()\n",
    "            y_true += data['labels'].tolist()\n",
    "    f1_weighted = f1_score(y_true, y_pred, average='weighted')\n",
    "    acc = accuracy_score(y_true, y_pred)\n",
    "    progress_bar.set_postfix(f1=f1_weighted, acc=acc)\n",
    "    return f1_weighted, acc\n",
    "\n",
    "def train_model(model, train_loader, val_loader,  criterion, optimizer, num_epochs):\n",
    "    # 模型训练\n",
    "    writer = SummaryWriter(out_folder)\n",
    "    pre_val_f1 = 0\n",
    "    gloabl_step = 0\n",
    "    for epoch in range(num_epochs):\n",
    "        epoch_loss = 0\n",
    "        correct = 0\n",
    "        step = 0\n",
    "        model.train()\n",
    "        y_true, y_pred = [], []\n",
    "        acc_num = 0\n",
    "\n",
    "        progress_bar = tqdm(train_loader, desc=f\"Epoch {epoch + 1}/{num_epochs}\", leave=False)\n",
    "\n",
    "        running_loss = 0.0\n",
    "        for idx, batch in enumerate(progress_bar):\n",
    "            data = {k: v.to(device) for k, v in batch.items()}\n",
    "            \n",
    "            outputs = model(data['input_ids'])\n",
    "            loss = criterion(outputs, data['labels'])\n",
    "\n",
    "            optimizer.zero_grad()\n",
    "            loss.backward()\n",
    "            optimizer.step()\n",
    "\n",
    "            preds = outputs.argmax(dim=1)\n",
    "            y_pred += preds.tolist()\n",
    "            y_true += data['labels'].tolist()\n",
    "\n",
    "            if gloabl_step % log_step == 0:\n",
    "                writer.add_scalar('train_loss', loss.item(), gloabl_step)\n",
    "            gloabl_step += 1\n",
    "\n",
    "            running_loss += loss.item()\n",
    "            acc_num += torch.sum(data['labels'] == preds).item()\n",
    "            progress_bar.set_postfix(loss=running_loss / (idx + 1), acc=acc_num / len(y_pred))\n",
    "                    \n",
    "        train_f1, train_acc = f1_score(y_true, y_pred, average='weighted'), accuracy_score(y_true, y_pred)\n",
    "        val_f1, val_acc = eval_model(model, val_loader)\n",
    "        writer.add_scalar('train_f1', train_f1, epoch)\n",
    "        writer.add_scalar('train_acc', train_acc, epoch)\n",
    "        writer.add_scalar('val_f1', val_f1, epoch)\n",
    "        writer.add_scalar('val_acc', val_acc, epoch)\n",
    "\n",
    "        if val_f1 > pre_val_f1:\n",
    "            pre_val_f1 = val_f1\n",
    "            torch.save(model.state_dict(), out_folder + f'/best_epoch_{epoch}_eval_f1_{int(val_f1*100)}_acc_{int(val_acc*100)}.pth')\n",
    "            \n",
    "        torch.save(model.state_dict(), out_folder + f'/best_epoch_{epoch}_eval_f1_{int(val_f1*100)}_acc_{int(val_acc*100)}.pth')\n",
    "        \n"
   ]
  },
  {
   "cell_type": "code",
   "execution_count": null,
   "metadata": {},
   "outputs": [
    {
     "data": {
      "application/vnd.jupyter.widget-view+json": {
       "model_id": "12ae6ba05920472fa4f4d39989e3d189",
       "version_major": 2,
       "version_minor": 0
      },
      "text/plain": [
       "Epoch 1/100:   0%|          | 0/3459 [00:00<?, ?it/s]"
      ]
     },
     "metadata": {},
     "output_type": "display_data"
    }
   ],
   "source": [
    "train_model(model, train_loader, val_loader, criterion, optimizer, num_epochs)\n",
    "# eval_model(model, val_loader)"
   ]
  },
  {
   "cell_type": "code",
   "execution_count": null,
   "metadata": {},
   "outputs": [],
   "source": [
    "tensorboard --logdir=Compiler/output/inst2vec_for_classifyapp --bind_all --path_prefix=/tensorboard\n",
    "\n",
    "gpu.act.buaa.edu.cn/ingress/xucong24-21753"
   ]
  }
 ],
 "metadata": {
  "kernelspec": {
   "display_name": "compiler_gym_py310",
   "language": "python",
   "name": "python3"
  },
  "language_info": {
   "codemirror_mode": {
    "name": "ipython",
    "version": 3
   },
   "file_extension": ".py",
   "mimetype": "text/x-python",
   "name": "python",
   "nbconvert_exporter": "python",
   "pygments_lexer": "ipython3",
   "version": "3.10.0"
  }
 },
 "nbformat": 4,
 "nbformat_minor": 2
}
